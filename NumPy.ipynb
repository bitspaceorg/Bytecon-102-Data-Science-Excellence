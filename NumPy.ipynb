{
  "nbformat": 4,
  "nbformat_minor": 0,
  "metadata": {
    "colab": {
      "provenance": [],
      "authorship_tag": "ABX9TyOVjmYv7h4EaigNTAAqOX9y",
      "include_colab_link": true
    },
    "kernelspec": {
      "name": "python3",
      "display_name": "Python 3"
    },
    "language_info": {
      "name": "python"
    }
  },
  "cells": [
    {
      "cell_type": "markdown",
      "metadata": {
        "id": "view-in-github",
        "colab_type": "text"
      },
      "source": [
        "<a href=\"https://colab.research.google.com/github/codetyri0n/Bytecon-102-Data-Science-Excellence/blob/main/NumPy.ipynb\" target=\"_parent\"><img src=\"https://colab.research.google.com/assets/colab-badge.svg\" alt=\"Open In Colab\"/></a>"
      ]
    },
    {
      "cell_type": "code",
      "execution_count": null,
      "metadata": {
        "id": "eCgKgPV9ZTPb"
      },
      "outputs": [],
      "source": [
        "import numpy as np\n"
      ]
    },
    {
      "cell_type": "markdown",
      "source": [
        "Nd - array\n"
      ],
      "metadata": {
        "id": "6WOGizYhZwtv"
      }
    },
    {
      "cell_type": "code",
      "source": [
        "arr = np.array( [1, 2, 3] )\n",
        "arr2 = np.array( [ [1, 2, 3],\n",
        "                   [4, 5, 5] ])\n",
        "print(arr2)"
      ],
      "metadata": {
        "colab": {
          "base_uri": "https://localhost:8080/"
        },
        "id": "4q3GpANKZ0uP",
        "outputId": "06e77c00-bbe2-4399-d78e-9197dc65e177"
      },
      "execution_count": null,
      "outputs": [
        {
          "output_type": "stream",
          "name": "stdout",
          "text": [
            "[[1 2 3]\n",
            " [4 5 5]]\n"
          ]
        }
      ]
    },
    {
      "cell_type": "markdown",
      "source": [
        "List vs NumPy"
      ],
      "metadata": {
        "id": "cV3ipI1KZ78x"
      }
    },
    {
      "cell_type": "code",
      "source": [
        "import time\n",
        "\n",
        "size = 10000000\n",
        "\n",
        "list1 = range(size)\n",
        "list2 = range(size)\n",
        "array1 = np.arange(size)\n",
        "array2 = np.arange(size)\n",
        "\n",
        "initialTime = time.time()\n",
        "\n",
        "sm = 0\n",
        "for i in range(size):\n",
        "    sm +=  list1[i] + list2[i]\n",
        "\n",
        "print(\"LIST : \", (time.time() - initialTime), \"seconds\")\n",
        "\n",
        "initialTime = time.time()\n",
        "\n",
        "resultantArray = array1 * array2\n",
        "\n",
        "print(\"NP ARRAY : \", (time.time() - initialTime), \"seconds\")\n"
      ],
      "metadata": {
        "colab": {
          "base_uri": "https://localhost:8080/"
        },
        "id": "VHVjFfCLZ_yo",
        "outputId": "f5bfe598-3652-4696-886c-203ddee59c21"
      },
      "execution_count": null,
      "outputs": [
        {
          "output_type": "stream",
          "name": "stdout",
          "text": [
            "LIST :  2.8745534420013428 seconds\n",
            "NP ARRAY :  0.012820720672607422 seconds\n"
          ]
        }
      ]
    },
    {
      "cell_type": "markdown",
      "source": [
        "Methods\n"
      ],
      "metadata": {
        "id": "4hYmwVXhbL-t"
      }
    },
    {
      "cell_type": "code",
      "source": [
        "print(arr2.dtype)\n",
        "print(arr2.shape)\n",
        "print(arr2.ndim)\n",
        "print(arr2.size)\n",
        "# np.nan\n",
        "# np.inf"
      ],
      "metadata": {
        "colab": {
          "base_uri": "https://localhost:8080/"
        },
        "id": "iQBWxfpfbQm8",
        "outputId": "d26a9340-ef77-4035-fcd8-e28430b83b52"
      },
      "execution_count": null,
      "outputs": [
        {
          "output_type": "stream",
          "name": "stdout",
          "text": [
            "int64\n",
            "(2, 3)\n",
            "2\n",
            "6\n"
          ]
        }
      ]
    },
    {
      "cell_type": "markdown",
      "source": [
        "Create np array"
      ],
      "metadata": {
        "id": "bSdmzLdcbSKT"
      }
    },
    {
      "cell_type": "code",
      "source": [
        "print(np.full((2,3), 5))\n",
        "print(np.ones((5,3)))\n",
        "print(np.arange(2,10))\n",
        "print(np.linspace(1, 20, 5))\n",
        "\n",
        "print(np.random.randint(2, 100, (2,4)))\n",
        "print(np.random.binomial(3, 0.2, (3,5)))\n",
        "print(np.random.choice( [10, 4,3], (3,5) ))"
      ],
      "metadata": {
        "colab": {
          "base_uri": "https://localhost:8080/"
        },
        "id": "2C5_JNcbbXXI",
        "outputId": "ad2b6fda-2b5f-4238-b274-918d41c47a2c"
      },
      "execution_count": null,
      "outputs": [
        {
          "output_type": "stream",
          "name": "stdout",
          "text": [
            "[[5 5 5]\n",
            " [5 5 5]]\n",
            "[[1. 1. 1.]\n",
            " [1. 1. 1.]\n",
            " [1. 1. 1.]\n",
            " [1. 1. 1.]\n",
            " [1. 1. 1.]]\n",
            "[2 3 4 5 6 7 8 9]\n",
            "[ 1.    5.75 10.5  15.25 20.  ]\n",
            "[[83 72 71 92]\n",
            " [22 45 60 44]]\n",
            "[[0 1 1 0 1]\n",
            " [1 2 0 1 0]\n",
            " [2 1 1 0 0]]\n",
            "[[ 4 10  3 10 10]\n",
            " [ 3  4  3 10 10]\n",
            " [ 3  4 10  3  4]]\n"
          ]
        }
      ]
    },
    {
      "cell_type": "markdown",
      "source": [
        "Manipulation"
      ],
      "metadata": {
        "id": "2_6R2jpIbZeD"
      }
    },
    {
      "cell_type": "code",
      "source": [
        "\n",
        "newArr = np.array( [[25, 10,  9,  5, 21, 3],\n",
        "                    [16, 13,  3, 23, 17, 8]] )\n",
        "newArr2 = np.array( [[25, 10,  9,  5, 21, 3],\n",
        "                    [16, 13,  3, 23, 17, 8]] )\n",
        "# print(newArr.reshape( (4,3) ))\n",
        "# print(newArr.flatten())\n",
        "# print(newArr.transpose())\n",
        "newArr = np.append(newArr, newArr2, axis=1 )\n",
        "newArr\n"
      ],
      "metadata": {
        "colab": {
          "base_uri": "https://localhost:8080/"
        },
        "id": "qWiWECE5bdPL",
        "outputId": "e1d1a352-2473-4f7f-9ec7-bde70249dbc0"
      },
      "execution_count": null,
      "outputs": [
        {
          "output_type": "execute_result",
          "data": {
            "text/plain": [
              "array([[25, 10,  9,  5, 21,  3, 25, 10,  9,  5, 21,  3],\n",
              "       [16, 13,  3, 23, 17,  8, 16, 13,  3, 23, 17,  8]])"
            ]
          },
          "metadata": {},
          "execution_count": 8
        }
      ]
    },
    {
      "cell_type": "markdown",
      "source": [
        "Vector like behaviour"
      ],
      "metadata": {
        "id": "dvNEnKWzbjYf"
      }
    },
    {
      "cell_type": "code",
      "source": [
        "lst1 = [5, 3]\n",
        "lst2 = [3, 7]\n",
        "ar = np.array([5,3])\n",
        "ar2 = np.array([3,7])\n",
        "print(lst1 + lst2)\n",
        "print(ar * ar2)\n",
        "\n",
        "print(np.dot(ar, ar2))"
      ],
      "metadata": {
        "colab": {
          "base_uri": "https://localhost:8080/"
        },
        "id": "j3qRhKmCbpBK",
        "outputId": "146d6e77-3c18-4926-8574-b6db7d9e8e1c"
      },
      "execution_count": null,
      "outputs": [
        {
          "output_type": "stream",
          "name": "stdout",
          "text": [
            "[5, 3, 3, 7]\n",
            "[15 21]\n",
            "36\n"
          ]
        }
      ]
    },
    {
      "cell_type": "markdown",
      "source": [
        "Aggregates"
      ],
      "metadata": {
        "id": "Aw6zrTBObqrs"
      }
    },
    {
      "cell_type": "code",
      "source": [
        "print(newArr.min())\n",
        "print(newArr.max())\n",
        "print(newArr.mean())\n",
        "print(np.median(newArr))\n",
        "print(newArr.sum())\n",
        "print(newArr.std())\n"
      ],
      "metadata": {
        "colab": {
          "base_uri": "https://localhost:8080/"
        },
        "id": "uFhr_HTqbuJ0",
        "outputId": "7e353a3f-8e9a-4e7c-bf29-60a877a02a58"
      },
      "execution_count": null,
      "outputs": [
        {
          "output_type": "stream",
          "name": "stdout",
          "text": [
            "3\n",
            "25\n",
            "12.75\n",
            "11.5\n",
            "306\n",
            "7.338539818428913\n"
          ]
        }
      ]
    }
  ]
}